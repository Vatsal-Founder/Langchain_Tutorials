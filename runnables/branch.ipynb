{
 "cells": [
  {
   "cell_type": "markdown",
   "id": "1e7e28df",
   "metadata": {},
   "source": [
    "### Runnable Branch"
   ]
  },
  {
   "cell_type": "code",
   "execution_count": 1,
   "id": "be25b5f8",
   "metadata": {},
   "outputs": [
    {
     "name": "stdout",
     "output_type": "stream",
     "text": [
      "Russia and Ukraine have a long and complex history that has often been marked by conflict and tension. The relationship between the two countries dates back to the days of the Russian Empire, when Ukraine was part of the Russian state. However, Ukraine gained independence from the Soviet Union in 1991, leading to the establishment of two separate countries.\n",
      "\n",
      "One of the main points of contention between Russia and Ukraine is the status of Crimea. In 2014, Russia annexed Crimea following a controversial referendum that was not recognized by the international community. This move led to international condemnation and sanctions against Russia, but has not been reversed.\n",
      "\n",
      "The conflict in eastern Ukraine, specifically in the regions of Donetsk and Luhansk, has also been a major source of tension between the two countries. The conflict began in 2014, when pro-Russian separatists took control of these regions and declared independence. The Ukrainian government responded with military force, leading to a protracted and bloody conflict that has resulted in thousands of deaths.\n",
      "\n",
      "The issue of gas supply has also been a point of contention between Russia and Ukraine. Russia has often used its control over gas pipelines that run through Ukraine as a political tool, threatening to cut off gas supplies in order to put pressure on the Ukrainian government.\n",
      "\n",
      "Overall, the relationship between Russia and Ukraine is complex and fraught with tension. The annexation of Crimea, the conflict in eastern Ukraine, and the issue of gas supply have all contributed to a strained relationship between the two countries. It remains to be seen how this conflict will be resolved and if the two countries can find a way to coexist peacefully in the future.\n"
     ]
    }
   ],
   "source": [
    "from langchain_openai import ChatOpenAI\n",
    "from langchain_core.prompts import PromptTemplate\n",
    "from langchain_core.output_parsers import StrOutputParser\n",
    "from dotenv import load_dotenv\n",
    "from langchain.schema.runnable import RunnableSequence, RunnableParallel, RunnablePassthrough, RunnableBranch, RunnableLambda\n",
    "\n",
    "load_dotenv()\n",
    "\n",
    "prompt1 = PromptTemplate(\n",
    "    template='Write a detailed report on {topic}',\n",
    "    input_variables=['topic']\n",
    ")\n",
    "\n",
    "prompt2 = PromptTemplate(\n",
    "    template='Summarize the following text \\n {text}',\n",
    "    input_variables=['text']\n",
    ")\n",
    "\n",
    "model = ChatOpenAI()\n",
    "\n",
    "parser = StrOutputParser()\n",
    "\n",
    "report_gen_chain = prompt1 | model | parser\n",
    "\n",
    "branch_chain = RunnableBranch(\n",
    "    (lambda x: len(x.split())>300, prompt2 | model | parser),\n",
    "    RunnablePassthrough()\n",
    ")\n",
    "\n",
    "final_chain = RunnableSequence(report_gen_chain, branch_chain)\n",
    "\n",
    "print(final_chain.invoke({'topic':'Russia vs Ukraine'}))\n",
    "\n",
    "\n"
   ]
  },
  {
   "cell_type": "code",
   "execution_count": null,
   "id": "2c4cc7ac",
   "metadata": {},
   "outputs": [],
   "source": []
  }
 ],
 "metadata": {
  "kernelspec": {
   "display_name": "Python 3",
   "language": "python",
   "name": "python3"
  },
  "language_info": {
   "codemirror_mode": {
    "name": "ipython",
    "version": 3
   },
   "file_extension": ".py",
   "mimetype": "text/x-python",
   "name": "python",
   "nbconvert_exporter": "python",
   "pygments_lexer": "ipython3",
   "version": "3.10.0"
  }
 },
 "nbformat": 4,
 "nbformat_minor": 5
}
