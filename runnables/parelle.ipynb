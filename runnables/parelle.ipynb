{
 "cells": [
  {
   "cell_type": "markdown",
   "id": "f803368b",
   "metadata": {},
   "source": [
    "### Runnable Parellel"
   ]
  },
  {
   "cell_type": "code",
   "execution_count": 1,
   "id": "04c2cdd0",
   "metadata": {},
   "outputs": [
    {
     "name": "stdout",
     "output_type": "stream",
     "text": [
      "\"AI is revolutionizing industries, from healthcare to finance. Exciting to see the potential of machine learning and automation in shaping the future! #AI #technology\"\n",
      "Excited to see the continuous advancements in artificial intelligence technology! AI has the potential to revolutionize industries and improve efficiency in ways we never thought possible. Looking forward to seeing how AI will shape the future of work and innovation. #AI #FutureTech #Innovation\n"
     ]
    }
   ],
   "source": [
    "from langchain_openai import ChatOpenAI\n",
    "from langchain_core.prompts import PromptTemplate\n",
    "from langchain_core.output_parsers import StrOutputParser\n",
    "from dotenv import load_dotenv\n",
    "from langchain.schema.runnable import RunnableSequence, RunnableParallel\n",
    "\n",
    "load_dotenv()\n",
    "\n",
    "prompt1 = PromptTemplate(\n",
    "    template='Generate a tweet about {topic}',\n",
    "    input_variables=['topic']\n",
    ")\n",
    "\n",
    "prompt2 = PromptTemplate(\n",
    "    template='Generate a Linkedin post about {topic}',\n",
    "    input_variables=['topic']\n",
    ")\n",
    "\n",
    "model = ChatOpenAI()\n",
    "\n",
    "parser = StrOutputParser()\n",
    "\n",
    "parallel_chain = RunnableParallel({\n",
    "    'tweet': RunnableSequence(prompt1, model, parser),\n",
    "    'linkedin': RunnableSequence(prompt2, model, parser)\n",
    "})\n",
    "\n",
    "result = parallel_chain.invoke({'topic':'AI'})\n",
    "\n",
    "print(result['tweet'])\n",
    "print(result['linkedin'])\n"
   ]
  },
  {
   "cell_type": "code",
   "execution_count": null,
   "id": "da5fbc10",
   "metadata": {},
   "outputs": [],
   "source": []
  }
 ],
 "metadata": {
  "kernelspec": {
   "display_name": "Python 3",
   "language": "python",
   "name": "python3"
  },
  "language_info": {
   "codemirror_mode": {
    "name": "ipython",
    "version": 3
   },
   "file_extension": ".py",
   "mimetype": "text/x-python",
   "name": "python",
   "nbconvert_exporter": "python",
   "pygments_lexer": "ipython3",
   "version": "3.10.0"
  }
 },
 "nbformat": 4,
 "nbformat_minor": 5
}
