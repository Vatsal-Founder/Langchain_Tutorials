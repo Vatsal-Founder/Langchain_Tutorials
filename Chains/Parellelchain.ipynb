{
 "cells": [
  {
   "cell_type": "markdown",
   "id": "2a0a16e7",
   "metadata": {},
   "source": [
    "### Parellel Chains"
   ]
  },
  {
   "cell_type": "code",
   "execution_count": 8,
   "id": "a5286deb",
   "metadata": {},
   "outputs": [],
   "source": [
    "\n",
    "import os\n",
    "from dotenv import load_dotenv\n",
    "load_dotenv()\n",
    "os.environ[\"HUGGINGFACEHUB_API_TOKEN\"] = os.getenv(\"HUGGINGFACEHUB_API_TOKEN\")\n",
    "\n",
    "\n",
    "\n",
    "\n",
    "\n",
    "\n"
   ]
  },
  {
   "cell_type": "code",
   "execution_count": 19,
   "id": "df412838",
   "metadata": {},
   "outputs": [],
   "source": [
    "from langchain_openai import ChatOpenAI\n",
    "from langchain.llms import HuggingFaceHub\n",
    "from langchain_core.prompts import PromptTemplate\n",
    "from langchain_core.output_parsers import StrOutputParser\n",
    "from langchain_core.runnables import RunnableParallel"
   ]
  },
  {
   "cell_type": "code",
   "execution_count": 22,
   "id": "18fdace7",
   "metadata": {},
   "outputs": [
    {
     "name": "stdout",
     "output_type": "stream",
     "text": [
      "Notes and Quiz Combined:\n",
      " Notes:\n",
      "- Capital of France: Paris\n",
      "- Known for art, fashion, and culture\n",
      "- Famous landmarks: Eiffel Tower, Louvre Museum\n",
      "\n",
      "Quiz:\n",
      "1. What is the capital of France?\n",
      "2. What is Paris known for in terms of art, fashion, and culture?\n",
      "3. Which famous landmark is located in Paris?\n",
      "4. Where can you find the Louvre Museum?\n",
      "5. What famous works of art can be found at the Louvre Museum in Paris?\n"
     ]
    }
   ],
   "source": [
    "\n",
    "llm = HuggingFaceHub(\n",
    "    repo_id=\"moonshotai/Kimi-K2-Instruct\")\n",
    "\n",
    "model = ChatOpenAI()\n",
    "\n",
    "prompt1=PromptTemplate(\n",
    "    input_variables=[\"text\"],\n",
    "    template=\"Generate short and simple notes from the following text \\n {text}\"\n",
    ")\n",
    "prompt2=PromptTemplate(\n",
    "    input_variables=[\"text\"],\n",
    "    template=\"Generate a 5 Q/A quiz from the following text \\n {text}\"\n",
    ")\n",
    "prompt3=PromptTemplate(\n",
    "    input_variables=[\"notes\", \"quiz\"],\n",
    "    template=\"Merge the provided notes and quiz into single documents \\n notes->{notes} and quiz->{quiz}\"\n",
    ")\n",
    "\n",
    "parser = StrOutputParser()\n",
    "\n",
    "parallel_chain = RunnableParallel(\n",
    "    {\n",
    "        \"notes\": prompt1 | model | parser,\n",
    "        \"quiz\": prompt2 | model | parser,\n",
    "    }\n",
    ")\n",
    "\n",
    "final_chain = parallel_chain | prompt3 | model | parser\n",
    "\n",
    "text_te = '''The capital of France is Paris. Paris is known for its art, fashion, and culture. The Eiffel Tower is one of the most famous landmarks in Paris. The Louvre Museum is also located in Paris and is home to many famous works of art.'''\n",
    "\n",
    "result = final_chain.invoke({\"text\": text_te})\n",
    "\n",
    "print(\"Notes and Quiz Combined:\\n\", result)\n",
    "\n"
   ]
  },
  {
   "cell_type": "code",
   "execution_count": null,
   "id": "b492414c",
   "metadata": {},
   "outputs": [],
   "source": []
  }
 ],
 "metadata": {
  "kernelspec": {
   "display_name": "Python 3",
   "language": "python",
   "name": "python3"
  },
  "language_info": {
   "codemirror_mode": {
    "name": "ipython",
    "version": 3
   },
   "file_extension": ".py",
   "mimetype": "text/x-python",
   "name": "python",
   "nbconvert_exporter": "python",
   "pygments_lexer": "ipython3",
   "version": "3.10.0"
  }
 },
 "nbformat": 4,
 "nbformat_minor": 5
}
