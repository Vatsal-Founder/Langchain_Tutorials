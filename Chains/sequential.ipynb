{
 "cells": [
  {
   "cell_type": "markdown",
   "id": "af918d6c",
   "metadata": {},
   "source": [
    "### Sequential Chains"
   ]
  },
  {
   "cell_type": "code",
   "execution_count": 2,
   "id": "3c5e4a08",
   "metadata": {},
   "outputs": [
    {
     "name": "stdout",
     "output_type": "stream",
     "text": [
      "1. A recession is a significant decline in economic activity characterized by decreased GDP, high unemployment rates, and reduced consumer spending, leading to job losses and financial hardships.\n",
      "2. The COVID-19 pandemic has triggered a global recession, with countries around the world implementing lockdowns and restrictions causing a sharp decline in economic activity and mass layoffs.\n",
      "3. The International Monetary Fund (IMF) has predicted a 3% contraction in the global economy in 2020, the worst since the Great Depression, with advanced economies and developing countries facing severe economic challenges.\n",
      "4. Governments have implemented various fiscal and monetary policies to mitigate the impact of the recession, including stimulus packages and loan programs for struggling businesses, while central banks have intervened to stabilize financial markets.\n",
      "5. Long-term economic recovery from the recession will require global cooperation and coordination, with investments in healthcare infrastructure, diversification of supply chains, and support for vulnerable populations through targeted social programs.\n"
     ]
    }
   ],
   "source": [
    "from langchain_openai import ChatOpenAI\n",
    "from dotenv import load_dotenv\n",
    "from langchain_core.prompts import PromptTemplate\n",
    "from langchain_core.output_parsers import StrOutputParser\n",
    "\n",
    "\n",
    "load_dotenv()\n",
    "\n",
    "PROMPT = PromptTemplate(\n",
    "    input_variables=[\"input\"],\n",
    "    template=\"Give me detail report on the topic {input}\")\n",
    "\n",
    "prompt_2= PromptTemplate(\n",
    "    input_variables=[\"text\"],\n",
    "    template=\"Give me a 5 points summary of the report on the topic \\n {text}\")\n",
    "\n",
    "model = ChatOpenAI()\n",
    "\n",
    "parser = StrOutputParser()\n",
    "\n",
    "chain = PROMPT| model  | parser | prompt_2 | model | parser\n",
    "\n",
    "result=chain.invoke({\n",
    "    \"input\": \"Recession in World\"})\n",
    "\n",
    "print(result)"
   ]
  },
  {
   "cell_type": "code",
   "execution_count": null,
   "id": "f39e2d10",
   "metadata": {},
   "outputs": [],
   "source": []
  },
  {
   "cell_type": "code",
   "execution_count": null,
   "id": "2c7386bb",
   "metadata": {},
   "outputs": [],
   "source": []
  }
 ],
 "metadata": {
  "kernelspec": {
   "display_name": "Python 3",
   "language": "python",
   "name": "python3"
  },
  "language_info": {
   "codemirror_mode": {
    "name": "ipython",
    "version": 3
   },
   "file_extension": ".py",
   "mimetype": "text/x-python",
   "name": "python",
   "nbconvert_exporter": "python",
   "pygments_lexer": "ipython3",
   "version": "3.10.0"
  }
 },
 "nbformat": 4,
 "nbformat_minor": 5
}
